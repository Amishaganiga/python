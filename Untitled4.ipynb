{
 "cells": [
  {
   "cell_type": "code",
   "execution_count": 1,
   "id": "0aa321d4",
   "metadata": {},
   "outputs": [
    {
     "name": "stdout",
     "output_type": "stream",
     "text": [
      "hii 1\n",
      "hii 2\n",
      "bii 1\n",
      "bii 2\n"
     ]
    }
   ],
   "source": [
    "x=[\"hii\",\"bii\"]\n",
    "num=[1,2]\n",
    "for i in x:\n",
    "    for j in num:\n",
    "        print(i,j)"
   ]
  },
  {
   "cell_type": "code",
   "execution_count": 6,
   "id": "a3a95da1",
   "metadata": {},
   "outputs": [
    {
     "name": "stdout",
     "output_type": "stream",
     "text": [
      "value is 5\n"
     ]
    }
   ],
   "source": [
    "x=5\n",
    "if x==7:\n",
    "    print(\"value is 7\")\n",
    "elif x==2:\n",
    "        print(\"Value is 2\")\n",
    "elif x==5:\n",
    "            print(\"value is 5\")\n",
    "else:\n",
    "                print(\"Value is none\")"
   ]
  },
  {
   "cell_type": "code",
   "execution_count": null,
   "id": "751b269d",
   "metadata": {},
   "outputs": [],
   "source": []
  }
 ],
 "metadata": {
  "kernelspec": {
   "display_name": "Python 3 (ipykernel)",
   "language": "python",
   "name": "python3"
  },
  "language_info": {
   "codemirror_mode": {
    "name": "ipython",
    "version": 3
   },
   "file_extension": ".py",
   "mimetype": "text/x-python",
   "name": "python",
   "nbconvert_exporter": "python",
   "pygments_lexer": "ipython3",
   "version": "3.11.4"
  }
 },
 "nbformat": 4,
 "nbformat_minor": 5
}
