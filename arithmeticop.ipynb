{
  "cells": [
    {
      "cell_type": "markdown",
      "metadata": {
        "id": "view-in-github",
        "colab_type": "text"
      },
      "source": [
        "<a href=\"https://colab.research.google.com/github/Amishaganiga/python/blob/main/arithmeticop.ipynb\" target=\"_parent\"><img src=\"https://colab.research.google.com/assets/colab-badge.svg\" alt=\"Open In Colab\"/></a>"
      ]
    },
    {
      "cell_type": "code",
      "execution_count": null,
      "id": "f2628c52",
      "metadata": {
        "id": "f2628c52",
        "outputId": "e062a456-817a-4339-ec93-0019a78f2d25"
      },
      "outputs": [
        {
          "name": "stdout",
          "output_type": "stream",
          "text": [
            "hello world\n"
          ]
        }
      ],
      "source": [
        "print (\"hello world\")"
      ]
    },
    {
      "cell_type": "code",
      "execution_count": null,
      "id": "e87849ef",
      "metadata": {
        "id": "e87849ef",
        "outputId": "8a8db811-95ca-47e3-f6a4-32b30df1efd5"
      },
      "outputs": [
        {
          "ename": "NameError",
          "evalue": "name 'hello' is not defined",
          "output_type": "error",
          "traceback": [
            "\u001b[1;31m---------------------------------------------------------------------------\u001b[0m",
            "\u001b[1;31mNameError\u001b[0m                                 Traceback (most recent call last)",
            "Cell \u001b[1;32mIn[2], line 1\u001b[0m\n\u001b[1;32m----> 1\u001b[0m hello\n",
            "\u001b[1;31mNameError\u001b[0m: name 'hello' is not defined"
          ]
        }
      ],
      "source": [
        "hello"
      ]
    },
    {
      "cell_type": "code",
      "execution_count": null,
      "id": "34d58d5d",
      "metadata": {
        "id": "34d58d5d",
        "outputId": "7bc7dbaa-0f0a-4d82-fe39-5355125351a4"
      },
      "outputs": [
        {
          "name": "stdout",
          "output_type": "stream",
          "text": [
            "5\n"
          ]
        }
      ],
      "source": [
        "a=2\n",
        "b=3\n",
        "sum=a+b\n",
        "print(sum)"
      ]
    },
    {
      "cell_type": "code",
      "execution_count": null,
      "id": "7c400d17",
      "metadata": {
        "id": "7c400d17",
        "outputId": "fdc213ac-005e-4329-b738-c252016bfd9f"
      },
      "outputs": [
        {
          "name": "stdout",
          "output_type": "stream",
          "text": [
            "10\n",
            "0\n",
            "25\n"
          ]
        }
      ],
      "source": [
        "a=5\n",
        "b=5\n",
        "sum=a+b\n",
        "dif=a-b\n",
        "product=a*b\n",
        "print(sum)\n",
        "print(dif)\n",
        "print(product)"
      ]
    },
    {
      "cell_type": "code",
      "execution_count": null,
      "id": "f71879f9",
      "metadata": {
        "id": "f71879f9"
      },
      "outputs": [],
      "source": []
    }
  ],
  "metadata": {
    "kernelspec": {
      "display_name": "Python 3 (ipykernel)",
      "language": "python",
      "name": "python3"
    },
    "language_info": {
      "codemirror_mode": {
        "name": "ipython",
        "version": 3
      },
      "file_extension": ".py",
      "mimetype": "text/x-python",
      "name": "python",
      "nbconvert_exporter": "python",
      "pygments_lexer": "ipython3",
      "version": "3.11.4"
    },
    "colab": {
      "provenance": [],
      "include_colab_link": true
    }
  },
  "nbformat": 4,
  "nbformat_minor": 5
}